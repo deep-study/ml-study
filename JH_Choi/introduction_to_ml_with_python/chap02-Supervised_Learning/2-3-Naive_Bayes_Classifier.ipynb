{
 "cells": [
  {
   "cell_type": "markdown",
   "metadata": {},
   "source": [
    "# Naive Bayes Classifiers\n",
    "## 1. 왜 Naive Bayes Classifier 인가?\n",
    "* 베이즈 분류기(Bayes Classifier)는 베이즈 이론(bayes theorem)에 기반함\n",
    "* 클래스의 각 특성이 다른 특성과 개별로 취급함 > 즉, 상호독립적이라고 가정함\n",
    "* 이러한 가정을 **Class Conditional Independence**(클래스 조건부 독립)이라고 함\n",
    "* 클래스 조건부 독립 가정으로 인하여 계산과정을 단순하게 하므로 Naive Bayes Classifier라 함\n",
    "\n",
    "## 2. 베이즈 정리(Bayes theorem)\n",
    "$$ P(C|X)=\\frac { P(X|C)P(C) }{ P(X) } $$\n",
    "* $ P(C|X) $ 는 $ X $에 대한 $C$의 조건부 확률, 즉 사후확률(Posterior probability)\n",
    "* $ P(C) $는 $C$의 사전확률(Prior probability)"
   ]
  },
  {
   "cell_type": "markdown",
   "metadata": {},
   "source": [
    "## 3. Naive Bayes Classifier\n",
    "Naive Bayes Classifier는 다음과 같이 수행된다.\n",
    "\n",
    "1) $D$를 투플들과 클래스 레이블로 이루어진 Training Set이라고 하자. 각 데이터 투플은 $n$개의 속성 $A_1, A_2,...,A_n$ 으로 구성되는 투플에대한 $n$-차원의 속성벡터 $X=(X_1,X_2,...,X_n)$로 표현된다.\n",
    "\n",
    "2) $m$개의 클래스 $C_1,C_2,...,C_m$ 이 있다고 하자. 어떤 투플 $X$가 주어지면, 분류기는 사후확률이 최대가되는 클래스에 $X$를 분류할 것이다. 즉, Naive Bayes Classifier는 다음과 같은 필요 충분 조건을 만족할 때, 투플 $X$가 클래스 $C_i$ 에 속한다고 예측한다.\n",
    "\n",
    "$$P({ C }_{ i }|X)>P({ C }_{ j }|X)\\quad for\\quad 1\\le j\\le m,\\quad j\\neq i$$\n",
    "\n",
    "따라서 $P(C_i|X)$ 를 최대화한다. $P(C_i|X)$가 최대인 클래스 $C_i$를 최대사후가설(Maximum posteriori hypothesis)라고 한다. 베이즈 정리에 의하면 다음 식이 성립한다.\n",
    "\n",
    "$$P({ C }_{ i }|X)=\\frac { P(X|{ C }_{ i })P({ C }_{ i }) }{ P(X) }$$\n",
    "\n",
    "3) $P(X)$가 모든 클래스에서 상수이므로 $P(X|C_i)P(C_i)$만을 최대화 하면 된다. 클래스 사전확률이 알려져 있지 않은 경우는 일반적으로 모든 클래스 확률은 동일하다고 가정한다. 즉, $P(C_1)=P(C_2)=...=P(C_m)$로 하여 $P(X|C_i)$를 최대화한다. 그렇지 않은 경우는 $P(X|C_i)P(C_i)$를 최대화한다. 클래스 사전확률은 $P({ C }_{ i })=|{ C }_{ i,D }|/|D|$에 의해 추정하며, 여기서 $|{ C }_{ i,D }|$는 $D$에 있는 클래스 $C_i$ 의 Training 투플의 수이다.\n",
    "\n",
    "4) 많은 속성을 가진 데이터 집합이 주어지면 $P(X|C_i)$를 계산하기 위해서 매우 큰 계산 비용이 소요된다. 각각의 속성 k개에 대해 값이 2개가 있는 경우 $(2^k-1)m$개의 계산이 필요하다. $P(X|C_i)$의 계산비용을 감소하기 위해서 클래스 조건부 독립성(class conditional independence)과 같은 단순한 가정을 세운다. 클래스 조건부 독립성이란 가정은 한 속성값은 다른 속성값들과 조건부 독립이라는 것으로, 투플의 클래스 레이블이 주어지면 속성들 간에느 어떠한 종속관계가 없다는 것을 의미한다. 따라서 다음 식이 성립한다.\n",
    "\n",
    "$$P(X|{ C }_{ i }) =\\prod _{ k=1 }^{ n }{ P({ x }_{ k }|{ C }_{ i }) } \\\\ \\ =P({ x }_{ 1 }|{ C }_{ i })\\times P({ x }_{ 2 }|{ C }_{ i })\\times ...\\times P({ x }_{ n }|{ C }_{ i })$$\n",
    "\n",
    "확률 $P({ x }_{ 1 }|{ C }_{ i }),P({ x }_{ 2 }|{ C }_{ i }),...,P({ x }_{ n }|{ C }_{ i })$는 Training Set으로 부터 추정한다.\n",
    "\n",
    "* 특성 $A_k$가 범주형이면, 는 에 대해 값 를 가지는 클래스 의 투플의 수를 로 나누어 계산한다.\n",
    "* 특성 $A_k$가 연속형이면, 통상 특성이 평균이 $\\mu$이고 표준편차가 $\\sigma$인 정규분포(가우시안 분포)를 갖는다고 가정한다.\n",
    "\n",
    "$$g(x,\\mu ,\\sigma )=\\frac { 1 }{ \\sqrt { 2\\pi  } \\sigma  } { e }^{ -\\frac { (x-\\mu )^{ 2 } }{ 2{ \\sigma  }^{ 2 } }  }$$\n",
    "따라서\n",
    "$$P({ x }_{ k }|{ C }_{ i }) = g({ x }_{ k },{ \\mu  }_{ { C }_{ i } },{ \\sigma  }_{ { C }_{ i } })$$\n",
    "\n",
    "5) $X$의 클래스 레이블을 예측하기 위해서, $P(X|{ C }_{ i })P({ C }_{ i })$를 각 클래스 $C_i$에 대해서 계산한다. 다음과 같은 필요충분 조건이 만족하면 투플 $X$의 클래스를 $C_i$라고 예측한다.\n",
    "\n",
    "$$P(X|{ C }_{ i })P({ C }_{ i })>P(X|{ C }_{ j })P({ C }_{ j })\\qquad for\\quad 1\\le j \\le m,\\quad j\\neq i$$\n"
   ]
  },
  {
   "cell_type": "markdown",
   "metadata": {},
   "source": [
    "## 4. scikit-learn의 Naive Bayes Classifier\n",
    "* scikit-learn에 구현된 나이브 베이즈 분류기는 **GaussianNB, BernoulliNB, MultinomialNB**\n",
    "* GaussianNB는 연속적(continuous)한 데이터에 적용할 수 있고, BernoulliNB는 이진 데이터, MultinomialNB는 카운트 데이터(예를들어, 문장에 나타난 단어의 횟수)\n",
    "* BernoulliNB, MultinomialNB는 대부분 텍스트 분류에 사용됨\n",
    "* Continuous한 데이터와 Categorical한 데이터가 섞여 있을 때는? > [여기 참고](https://stackoverflow.com/questions/14254203/mixing-categorial-and-continuous-data-in-naive-bayes-classifier-using-scikit-lea)\n",
    "* MultinomialNB와 BernoulliNB는 모델의 복잡도를 조절하는 *alpha* 매개변수를 가지고 있음 --> *alpha* 가 크면 모델의 복잡도는 낮아짐\n",
    "### 4.1 sklearn.naive_bayes.[GaussianNB](http://scikit-learn.org/stable/modules/generated/sklearn.naive_bayes.GaussianNB.html#sklearn.naive_bayes.GaussianNB)"
   ]
  },
  {
   "cell_type": "code",
   "execution_count": 1,
   "metadata": {
    "collapsed": true
   },
   "outputs": [],
   "source": [
    "import numpy as np\n",
    "import matplotlib.pyplot as plt\n",
    "%matplotlib inline\n",
    "from sklearn.naive_bayes import GaussianNB"
   ]
  },
  {
   "cell_type": "code",
   "execution_count": 2,
   "metadata": {},
   "outputs": [
    {
     "name": "stdout",
     "output_type": "stream",
     "text": [
      "[1]\n"
     ]
    }
   ],
   "source": [
    "X = np.array([[-1, -1], [-2, -1], [-3, -2], [1, 1], [2, 1], [3, 2]])\n",
    "Y = np.array([1, 1, 1, 2, 2, 2])\n",
    "clf = GaussianNB()\n",
    "clf.fit(X, Y)\n",
    "print(clf.predict([[-0.8, -1]]))"
   ]
  },
  {
   "cell_type": "code",
   "execution_count": 3,
   "metadata": {},
   "outputs": [
    {
     "name": "stdout",
     "output_type": "stream",
     "text": [
      "[1]\n"
     ]
    }
   ],
   "source": [
    "# partial_fit(X, y[, classes, sample_weight])) : This is especially useful when the whole dataset is too big to fit in memory at once.\n",
    "clf_pf = GaussianNB()\n",
    "clf_pf.partial_fit(X, Y, np.unique(Y))\n",
    "print(clf_pf.predict([[-0.8, -1]]))"
   ]
  },
  {
   "cell_type": "markdown",
   "metadata": {},
   "source": [
    "### 4.2 sklearn.naive_bayes.[MultinomialNB](http://scikit-learn.org/stable/modules/generated/sklearn.naive_bayes.MultinomialNB.html#sklearn.naive_bayes.MultinomialNB) 을 이용한 네이버영화 리뷰 데이터셋 분류하기\n",
    "#### 1) 필요한 모듈 import 하기"
   ]
  },
  {
   "cell_type": "code",
   "execution_count": 4,
   "metadata": {
    "collapsed": true
   },
   "outputs": [],
   "source": [
    "from IPython.display import display\n",
    "import pandas as pd\n",
    "from sklearn.naive_bayes import MultinomialNB\n",
    "from sklearn.feature_extraction.text import CountVectorizer\n",
    "from sklearn.pipeline import Pipeline\n",
    "from sklearn.model_selection import GridSearchCV\n",
    "from konlpy.tag import Twitter\n",
    "twitter_tag = Twitter()"
   ]
  },
  {
   "cell_type": "markdown",
   "metadata": {},
   "source": [
    "#### 2) pandas를 이용해 데이터셋 불러오기(Train/Test set)"
   ]
  },
  {
   "cell_type": "code",
   "execution_count": 5,
   "metadata": {},
   "outputs": [
    {
     "data": {
      "text/html": [
       "<div>\n",
       "<style>\n",
       "    .dataframe thead tr:only-child th {\n",
       "        text-align: right;\n",
       "    }\n",
       "\n",
       "    .dataframe thead th {\n",
       "        text-align: left;\n",
       "    }\n",
       "\n",
       "    .dataframe tbody tr th {\n",
       "        vertical-align: top;\n",
       "    }\n",
       "</style>\n",
       "<table border=\"1\" class=\"dataframe\">\n",
       "  <thead>\n",
       "    <tr style=\"text-align: right;\">\n",
       "      <th></th>\n",
       "      <th>id</th>\n",
       "      <th>document</th>\n",
       "      <th>label</th>\n",
       "    </tr>\n",
       "  </thead>\n",
       "  <tbody>\n",
       "    <tr>\n",
       "      <th>0</th>\n",
       "      <td>9976970</td>\n",
       "      <td>아 더빙.. 진짜 짜증나네요 목소리</td>\n",
       "      <td>0</td>\n",
       "    </tr>\n",
       "    <tr>\n",
       "      <th>1</th>\n",
       "      <td>3819312</td>\n",
       "      <td>흠...포스터보고 초딩영화줄....오버연기조차 가볍지 않구나</td>\n",
       "      <td>1</td>\n",
       "    </tr>\n",
       "    <tr>\n",
       "      <th>2</th>\n",
       "      <td>10265843</td>\n",
       "      <td>너무재밓었다그래서보는것을추천한다</td>\n",
       "      <td>0</td>\n",
       "    </tr>\n",
       "  </tbody>\n",
       "</table>\n",
       "</div>"
      ],
      "text/plain": [
       "         id                           document  label\n",
       "0   9976970                아 더빙.. 진짜 짜증나네요 목소리      0\n",
       "1   3819312  흠...포스터보고 초딩영화줄....오버연기조차 가볍지 않구나      1\n",
       "2  10265843                  너무재밓었다그래서보는것을추천한다      0"
      ]
     },
     "metadata": {},
     "output_type": "display_data"
    },
    {
     "data": {
      "text/html": [
       "<div>\n",
       "<style>\n",
       "    .dataframe thead tr:only-child th {\n",
       "        text-align: right;\n",
       "    }\n",
       "\n",
       "    .dataframe thead th {\n",
       "        text-align: left;\n",
       "    }\n",
       "\n",
       "    .dataframe tbody tr th {\n",
       "        vertical-align: top;\n",
       "    }\n",
       "</style>\n",
       "<table border=\"1\" class=\"dataframe\">\n",
       "  <thead>\n",
       "    <tr style=\"text-align: right;\">\n",
       "      <th></th>\n",
       "      <th>id</th>\n",
       "      <th>document</th>\n",
       "      <th>label</th>\n",
       "    </tr>\n",
       "  </thead>\n",
       "  <tbody>\n",
       "    <tr>\n",
       "      <th>0</th>\n",
       "      <td>6270596</td>\n",
       "      <td>굳 ㅋ</td>\n",
       "      <td>1</td>\n",
       "    </tr>\n",
       "    <tr>\n",
       "      <th>1</th>\n",
       "      <td>9274899</td>\n",
       "      <td>GDNTOPCLASSINTHECLUB</td>\n",
       "      <td>0</td>\n",
       "    </tr>\n",
       "    <tr>\n",
       "      <th>2</th>\n",
       "      <td>8544678</td>\n",
       "      <td>뭐야 이 평점들은.... 나쁘진 않지만 10점 짜리는 더더욱 아니잖아</td>\n",
       "      <td>0</td>\n",
       "    </tr>\n",
       "  </tbody>\n",
       "</table>\n",
       "</div>"
      ],
      "text/plain": [
       "        id                                document  label\n",
       "0  6270596                                     굳 ㅋ      1\n",
       "1  9274899                    GDNTOPCLASSINTHECLUB      0\n",
       "2  8544678  뭐야 이 평점들은.... 나쁘진 않지만 10점 짜리는 더더욱 아니잖아      0"
      ]
     },
     "metadata": {},
     "output_type": "display_data"
    }
   ],
   "source": [
    "# Training set\n",
    "df_train = pd.read_csv('../data/ratings_train.txt', delimiter='\\t',\n",
    "                       keep_default_na=False)\n",
    "display(df_train.head(3))\n",
    "\n",
    "# Test set\n",
    "df_test = pd.read_csv('../data/ratings_test.txt', delimiter='\\t',\n",
    "                       keep_default_na=False)\n",
    "display(df_test.head(3))"
   ]
  },
  {
   "cell_type": "markdown",
   "metadata": {},
   "source": [
    "#### 3) scikit-learn 모델에 적용하기 위해 Numpy 배열로 변환"
   ]
  },
  {
   "cell_type": "code",
   "execution_count": 6,
   "metadata": {},
   "outputs": [
    {
     "name": "stdout",
     "output_type": "stream",
     "text": [
      "Training set의 [0, 1] 개수: [508 492]\n"
     ]
    }
   ],
   "source": [
    "# Training set\n",
    "text_train = df_train['document'].as_matrix()\n",
    "y_train = df_train['label'].as_matrix()\n",
    "\n",
    "# Test set\n",
    "text_test = df_test['document'].as_matrix()\n",
    "y_test = df_test['label'].as_matrix()\n",
    "\n",
    "# 학습시킬 데이터의 class 분포 파악\n",
    "print(\"Training set의 [0, 1] 개수: {}\".format(np.bincount(y_train[:1000])))\n",
    "# print(\"Test set의 [0, 1] 개수: [{}]\".format(np.bincount(y_test[:1000])))"
   ]
  },
  {
   "cell_type": "markdown",
   "metadata": {},
   "source": [
    "#### 4) Twitter 분석기를 이용하여 형태소로 반환하는 함수 생성"
   ]
  },
  {
   "cell_type": "code",
   "execution_count": 7,
   "metadata": {
    "collapsed": true
   },
   "outputs": [],
   "source": [
    "# POS-tagging 후 morphs 반환하는 함수 만듦\n",
    "def twitter_tokenizer(text):\n",
    "#     return twitter_tag.nouns(text)\n",
    "    return twitter_tag.morphs(text)"
   ]
  },
  {
   "cell_type": "markdown",
   "metadata": {},
   "source": [
    "#### 5) scikit-learn의 Pipeline과 GridSearchCV를 이용하여 모델링하기\n",
    "* [Pipeline 참고-(1)](http://scikit-learn.org/stable/tutorial/text_analytics/working_with_text_data.html), [Pipeline 참고-(2)](http://scikit-learn.org/stable/modules/generated/sklearn.pipeline.Pipeline.html)\n",
    "* [GridSearchCV 참고](http://scikit-learn.org/stable/modules/generated/sklearn.model_selection.GridSearchCV.html)"
   ]
  },
  {
   "cell_type": "code",
   "execution_count": 23,
   "metadata": {
    "collapsed": true
   },
   "outputs": [],
   "source": [
    "text_clf = Pipeline([('vect', CountVectorizer(tokenizer=twitter_tokenizer)),\n",
    "                     ('clf', MultinomialNB())])\n",
    "# Pipel;ne에 namedtuple형식으로 적어준게 = MultinomialNB의 alpha\n",
    "grid_params = {'clf__alpha': [0.1, 1, 10]} \n",
    "text_clf_grid = GridSearchCV(text_clf, grid_params)"
   ]
  },
  {
   "cell_type": "code",
   "execution_count": 24,
   "metadata": {},
   "outputs": [
    {
     "name": "stdout",
     "output_type": "stream",
     "text": [
      "최상의 교차 검증 점수: 0.758\n",
      "최적의 교차검증 parameter: {'clf__alpha': 1}\n"
     ]
    }
   ],
   "source": [
    "# GridSearchCV 실행\n",
    "text_clf_grid.fit(text_train[:1000], y_train[:1000])\n",
    "print(\"최상의 교차 검증 점수: {:.3f}\".format(text_clf_grid.best_score_))\n",
    "print('최적의 교차검증 parameter: {}'.format(text_clf_grid.best_params_))"
   ]
  },
  {
   "cell_type": "markdown",
   "metadata": {},
   "source": [
    "#### 6) Test set에 적용 후 점수 계산"
   ]
  },
  {
   "cell_type": "code",
   "execution_count": 25,
   "metadata": {},
   "outputs": [
    {
     "name": "stdout",
     "output_type": "stream",
     "text": [
      "0.748\n"
     ]
    }
   ],
   "source": [
    "predicted = text_clf_grid.predict(text_test[:1000])\n",
    "print(np.mean(predicted == y_test[:1000]))"
   ]
  },
  {
   "cell_type": "markdown",
   "metadata": {},
   "source": [
    "#### 7) Test 해보기"
   ]
  },
  {
   "cell_type": "code",
   "execution_count": 42,
   "metadata": {},
   "outputs": [
    {
     "name": "stdout",
     "output_type": "stream",
     "text": [
      "[0 1 0 0 0 0]\n"
     ]
    }
   ],
   "source": [
    "# 보고 싶었던 살인자의 기억법 후기 분류하기\n",
    "mv_reviews = [\n",
    "    '재미없어요.. 지루하기만한영화.실망',\n",
    "    '보는내내 소름의 연속이었습니다. 추천',\n",
    "    '딸을구하려는아버지 설경구의연기는좋았다.하지만 전체적으로 공감이전혀되지않는살인장면과.싸움 액션씬등 중간에 영화보다 극장나갈뻔했다.뭔가억지스러운 장면의 연속들..오직설경구의 눈떠는 연기만 기억날뿐이다.',\n",
    "    '최악의 영화. 중간중간 나오는 코믹한 연기는 집중력을 흐리고 재미또한 없다. 장르와 스토리는 명확하지 않다. 올해 본 영화중 가장 시간이 아까웠던영화. 두시간이 버려졌다.',\n",
    "    '설경구의 연기력이 몰입도를 상승 시킨다.',\n",
    "    '설현 누가 연기 잘한다고 했냐..김남길 욕 정말 어색하다..설경구때문에라도 2점 주고 갑니다.'\n",
    "]\n",
    "\n",
    "rv_predicted = text_clf_grid.predict(mv_reviews)\n",
    "# 실제 레이블 [0, 1, 0, 0, 1, 0]\n",
    "print(rv_predicted)"
   ]
  },
  {
   "cell_type": "markdown",
   "metadata": {},
   "source": [
    "---"
   ]
  }
 ],
 "metadata": {
  "kernelspec": {
   "display_name": "Python 3",
   "language": "python",
   "name": "python3"
  },
  "language_info": {
   "codemirror_mode": {
    "name": "ipython",
    "version": 3
   },
   "file_extension": ".py",
   "mimetype": "text/x-python",
   "name": "python",
   "nbconvert_exporter": "python",
   "pygments_lexer": "ipython3",
   "version": "3.5.3"
  }
 },
 "nbformat": 4,
 "nbformat_minor": 2
}
